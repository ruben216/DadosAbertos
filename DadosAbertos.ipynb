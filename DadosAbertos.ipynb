{
  "nbformat": 4,
  "nbformat_minor": 0,
  "metadata": {
    "colab": {
      "name": "DadosAbertos.ipynb",
      "provenance": [],
      "authorship_tag": "ABX9TyOYYqAzRdb49KylfF/zGzfh",
      "include_colab_link": true
    },
    "kernelspec": {
      "name": "python3",
      "display_name": "Python 3"
    },
    "language_info": {
      "name": "python"
    }
  },
  "cells": [
    {
      "cell_type": "markdown",
      "metadata": {
        "id": "view-in-github",
        "colab_type": "text"
      },
      "source": [
        "<a href=\"https://colab.research.google.com/github/ruben216/DadosAbertos/blob/main/DadosAbertos.ipynb\" target=\"_parent\"><img src=\"https://colab.research.google.com/assets/colab-badge.svg\" alt=\"Open In Colab\"/></a>"
      ]
    },
    {
      "cell_type": "markdown",
      "source": [
        "#Dados Abertos\n",
        "---\n",
        "\n",
        "## To-Dos\n",
        "\n",
        "\n",
        "\n",
        "*   Criar uma monitoria para saber o que foi alterado em um período de tempo?\n",
        "*   item 2\n",
        "\n",
        "\n",
        "\n",
        "\n",
        "\n",
        "\n",
        "## Estrutura do site\n",
        "### O que são grupos? \n",
        "Os temas são uma forma de categorizar os conjuntos de dados publicados de uma forma simples e compreensível para a população em geral. Ao utilizar esse recurso de catalogação, os publicadores reúnem, num mesmo grupo, dados relacionados a um assunto/categoria particular. Isso facilita a indexação de informação e permite aos usuários realizarem suas buscas e encontrarem os dados de seu interesse com maior facilidade. "
      ],
      "metadata": {
        "id": "WWwxG5oixZqy"
      }
    },
    {
      "cell_type": "code",
      "execution_count": 20,
      "metadata": {
        "id": "YRgB0K-5V2fK",
        "outputId": "05693b11-cd0e-4f8c-c06a-c62056d9b1e6",
        "colab": {
          "base_uri": "https://localhost:8080/"
        }
      },
      "outputs": [
        {
          "output_type": "stream",
          "name": "stdout",
          "text": [
            "/group\n",
            "/group\n",
            "/group/agricultura-extrativismo-e-pesca\n",
            "/group/ciencia-informacao-e-comunicacao\n",
            "/group/comercio-servicos-turismo\n",
            "/group/cultura-lazer-esporte\n",
            "/group/dados-em-destaque\n",
            "/group/defesa-seguranca\n",
            "/group/economia-financas\n",
            "/group/educacao\n",
            "/group/equipamentos-publicos\n",
            "/group/geografia\n",
            "/group/governo-politica\n",
            "/group/habitacao-saneamento-e-urbanismo\n",
            "/group/industria\n",
            "/group/justica-legislacao\n",
            "/group/meio-ambiente\n",
            "/group/plano-plurianual\n",
            "/group/relacoes-internacionais\n",
            "/group/saude\n",
            "/group/trabalho\n",
            "/group/transportes-e-transito\n"
          ]
        }
      ],
      "source": [
        "\n",
        "\n",
        "from bs4 import BeautifulSoup\n",
        "import requests\n",
        "\n",
        "\n",
        "response = requests.get(\"https://dados.gov.br/group\")\n",
        "txt = response.text\n",
        "soup = BeautifulSoup(txt, 'html.parser')\n",
        "grupos = '/group'\n",
        "#print(soup.prettify())\n",
        "\n",
        "for link in soup.find_all('a'):\n",
        "  if grupos in link.get('href'):\n",
        "    print(link.get('href'))\n",
        "\n",
        "\n",
        "\n"
      ]
    }
  ]
}