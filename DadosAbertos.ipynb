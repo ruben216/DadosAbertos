{
  "nbformat": 4,
  "nbformat_minor": 0,
  "metadata": {
    "colab": {
      "name": "DadosAbertos.ipynb",
      "provenance": [],
      "authorship_tag": "ABX9TyNFqCvOVYcbdWZ1zvA4Y1B8",
      "include_colab_link": true
    },
    "kernelspec": {
      "name": "python3",
      "display_name": "Python 3"
    },
    "language_info": {
      "name": "python"
    }
  },
  "cells": [
    {
      "cell_type": "markdown",
      "metadata": {
        "id": "view-in-github",
        "colab_type": "text"
      },
      "source": [
        "<a href=\"https://colab.research.google.com/github/ruben216/DadosAbertos/blob/main/DadosAbertos.ipynb\" target=\"_parent\"><img src=\"https://colab.research.google.com/assets/colab-badge.svg\" alt=\"Open In Colab\"/></a>"
      ]
    },
    {
      "cell_type": "markdown",
      "source": [
        "#Dados Abertos\n",
        "---\n",
        "\n",
        "## To-Dos\n",
        "\n",
        "\n",
        "\n",
        "*   Criar paginação dos dados para conseguir ler os dados completos\n",
        "*   \n",
        "\n",
        "\n",
        "\n",
        "\n",
        "\n",
        "\n",
        "## Estrutura dos dados\n",
        "### Dicionário dos dados\n",
        "\n"
      ],
      "metadata": {
        "id": "WWwxG5oixZqy"
      }
    },
    {
      "cell_type": "code",
      "execution_count": 30,
      "metadata": {
        "id": "YRgB0K-5V2fK",
        "outputId": "0284deed-9912-4331-85a9-1e03684c3df9",
        "colab": {
          "base_uri": "https://localhost:8080/"
        }
      },
      "outputs": [
        {
          "output_type": "stream",
          "name": "stdout",
          "text": [
            "{'vacina_grupoAtendimento_nome': 'Hipertensão de difícil controle ou com complicações/lesão de órgão alvo', 'vacina_codigo': '85', 'paciente_dataNascimento': '1976-10-15', 'ds_condicao_maternal': 'Nenhuma', 'paciente_endereco_nmPais': 'BRASIL', 'paciente_racaCor_valor': 'PRETA', 'sistema_origem': 'Novo PNI', 'paciente_id': '3bbf05ad3fb54dde3c4bb71af2b642fec88d8e4d08513de50f65df6ae15c3695', 'paciente_endereco_uf': 'PA', 'paciente_idade': 46, 'paciente_endereco_cep': '67000', 'estabelecimento_valor': '2328852', 'estabelecimento_municipio_codigo': '150080', 'data_importacao_datalake': '2023-02-26T06:06:31.000Z', 'paciente_enumSexoBiologico': 'M', 'estabelecimento_municipio_nome': 'ANANINDEUA', 'vacina_grupoAtendimento_codigo': '000107', 'vacina_descricao_dose': '2º Reforço', 'paciente_endereco_nmMunicipio': 'ANANINDEUA', 'vacina_categoria_nome': 'Comorbidades', 'vacina_fabricante_nome': 'ASTRAZENECA/FIOCRUZ', 'vacina_categoria_codigo': '1', 'dt_deleted': None, 'paciente_nacionalidade_enumNacionalidade': 'B', 'vacina_numDose': '7', 'status': 'final', 'document_id': '74246ce5-2913-499e-a139-0a8239f373c4-i0b0', 'vacina_lote': '224VCD086Z', 'id_sistema_origem': '16341', '@timestamp': '2023-02-26T09:16:17.319Z', 'estalecimento_noFantasia': 'UBS AGUAS LINDAS', '@version': '1', 'paciente_racaCor_codigo': '02', 'estabelecimento_razaoSocial': 'SECRETARIA MUNICIPAL DE ANANINDEUA', 'vacina_nome': 'COVID-19 ASTRAZENECA/FIOCRUZ - COVISHIELD', 'estabelecimento_uf': 'PA', 'data_importacao_rnds': '2023-02-25T19:29:41.000Z', 'vacina_dataAplicacao': '2022-12-22T00:00:00.000Z', 'co_condicao_maternal': 1, 'paciente_endereco_coPais': '10', 'vacina_fabricante_referencia': '149', 'paciente_endereco_coIbgeMunicipio': '150080'}\n",
            "{'vacina_grupoAtendimento_nome': 'Pessoas de 18 a 64 anos', 'vacina_codigo': '87', 'paciente_dataNascimento': '1959-09-21', 'ds_condicao_maternal': 'Nenhuma', 'paciente_endereco_nmPais': 'BRASIL', 'paciente_racaCor_valor': 'SEM INFORMACAO', 'sistema_origem': 'Novo PNI', 'paciente_id': 'e3efcfece642e79cd6053a0894d1e804350fd67179d9c1c33f40f24cbff545ee', 'paciente_endereco_uf': 'PA', 'paciente_idade': 63, 'paciente_endereco_cep': '67133', 'estabelecimento_valor': '6802877', 'estabelecimento_municipio_codigo': '150080', 'data_importacao_datalake': '2023-02-26T06:06:31.000Z', 'paciente_enumSexoBiologico': 'F', 'estabelecimento_municipio_nome': 'ANANINDEUA', 'vacina_grupoAtendimento_codigo': '000201', 'vacina_descricao_dose': '3º Reforço', 'paciente_endereco_nmMunicipio': 'ANANINDEUA', 'vacina_categoria_nome': 'Faixa Etária', 'vacina_fabricante_nome': 'PFIZER', 'vacina_categoria_codigo': '2', 'dt_deleted': None, 'paciente_nacionalidade_enumNacionalidade': 'B', 'vacina_numDose': '39', 'status': 'final', 'document_id': 'cb719a48-036c-4c46-8da8-c0120f5c42c9-i0b0', 'vacina_lote': 'FT5177', 'id_sistema_origem': '16341', '@timestamp': '2023-02-26T09:16:17.320Z', 'estalecimento_noFantasia': 'UBS DES PAULO FROTA', '@version': '1', 'paciente_racaCor_codigo': '99', 'estabelecimento_razaoSocial': 'SECRETARIA MUNICIPAL DE ANANINDEUA', 'vacina_nome': 'COVID-19 PFIZER - COMIRNATY', 'estabelecimento_uf': 'PA', 'data_importacao_rnds': '2023-02-25T20:55:01.000Z', 'vacina_dataAplicacao': '2023-02-25T00:00:00.000Z', 'co_condicao_maternal': 1, 'paciente_endereco_coPais': '10', 'vacina_fabricante_referencia': '28290', 'paciente_endereco_coIbgeMunicipio': '150080'}\n",
            "{'vacina_grupoAtendimento_nome': 'Pessoas de 5 a 11 anos', 'vacina_codigo': '87', 'paciente_dataNascimento': '2010-04-01', 'ds_condicao_maternal': None, 'paciente_endereco_nmPais': 'BRASIL', 'paciente_racaCor_valor': 'BRANCA', 'sistema_origem': 'VACIVIDA', 'paciente_id': 'dfd7901d0aed00509961216be0464b14b3ea434cd1621e3851a30acf9d0ec70d', 'paciente_endereco_uf': 'SP', 'paciente_idade': 12, 'paciente_endereco_cep': '14180', 'estabelecimento_valor': '2083361', 'estabelecimento_municipio_codigo': '354020', 'data_importacao_datalake': '2023-02-26T06:06:31.000Z', 'paciente_enumSexoBiologico': 'M', 'estabelecimento_municipio_nome': 'PONTAL', 'vacina_grupoAtendimento_codigo': '000207', 'vacina_descricao_dose': 'Reforço', 'paciente_endereco_nmMunicipio': 'PONTAL', 'vacina_categoria_nome': 'Faixa Etária', 'vacina_fabricante_nome': 'PFIZER', 'vacina_categoria_codigo': '2', 'dt_deleted': None, 'paciente_nacionalidade_enumNacionalidade': 'B', 'vacina_numDose': '38', 'status': 'final', 'document_id': 'ea24679e-cd77-455f-b74d-50a4091505fc-i0b0', 'vacina_lote': 'FX1188', 'id_sistema_origem': '18262', '@timestamp': '2023-02-26T09:16:17.323Z', 'estalecimento_noFantasia': 'UBS DR RUY NOGUEIRA COSTA PONTAL', '@version': '1', 'paciente_racaCor_codigo': '01', 'estabelecimento_razaoSocial': 'PREFEITURA MUNICIPAL DE PONTAL', 'vacina_nome': 'COVID-19 PFIZER - COMIRNATY', 'estabelecimento_uf': 'SP', 'data_importacao_rnds': '2023-02-25T18:07:40.000Z', 'vacina_dataAplicacao': '2023-02-25T00:00:00.000Z', 'co_condicao_maternal': None, 'paciente_endereco_coPais': '10', 'vacina_fabricante_referencia': None, 'paciente_endereco_coIbgeMunicipio': '354020'}\n"
          ]
        }
      ],
      "source": [
        "\n",
        "\n",
        "from bs4 import BeautifulSoup\n",
        "import requests\n",
        "from requests.auth import HTTPBasicAuth\n",
        "import json\n",
        "\n",
        "basic = HTTPBasicAuth('imunizacao_public', 'qlto5t&7r_@+#Tlstigi')\n",
        "payload = { 'scroll': '1m','size' : '7'\n",
        "           }\n",
        "\n",
        "dados_completos = []\n",
        "hits = ''\n",
        "\n",
        "\n",
        "response = requests.get(\"https://imunizacao-es.saude.gov.br/_search\"\n",
        "                        ,auth=basic\n",
        "                       ,params = payload)\n",
        "\n",
        "response_txt = response.json()\n",
        "scroll_id = response_txt[\"_scroll_id\"]\n",
        "\n",
        "for i in range(3):\n",
        "  print(response_txt[\"hits\"][\"hits\"][i][\"_source\"])\n",
        "\n",
        "# print(response_txt[\"hits\"][\"hits\"])\n",
        "\n"
      ]
    }
  ]
}