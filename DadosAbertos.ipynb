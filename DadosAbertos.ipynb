{
  "nbformat": 4,
  "nbformat_minor": 0,
  "metadata": {
    "colab": {
      "name": "DadosAbertos.ipynb",
      "provenance": [],
      "authorship_tag": "ABX9TyMNXErN6/N9hMluPwP97McS",
      "include_colab_link": true
    },
    "kernelspec": {
      "name": "python3",
      "display_name": "Python 3"
    },
    "language_info": {
      "name": "python"
    }
  },
  "cells": [
    {
      "cell_type": "markdown",
      "metadata": {
        "id": "view-in-github",
        "colab_type": "text"
      },
      "source": [
        "<a href=\"https://colab.research.google.com/github/ruben216/DadosAbertos/blob/main/DadosAbertos.ipynb\" target=\"_parent\"><img src=\"https://colab.research.google.com/assets/colab-badge.svg\" alt=\"Open In Colab\"/></a>"
      ]
    },
    {
      "cell_type": "markdown",
      "source": [
        "#Dados Abertos\n",
        "---\n",
        "\n",
        "## To-Dos\n",
        "\n",
        "\n",
        "\n",
        "*   Criar paginação dos dados para conseguir ler os dados completos\n",
        "*   \n",
        "\n",
        "\n",
        "\n",
        "\n",
        "\n",
        "\n",
        "## Estrutura dos dados\n",
        "### Dicionário dos dados\n",
        "\n"
      ],
      "metadata": {
        "id": "WWwxG5oixZqy"
      }
    },
    {
      "cell_type": "code",
      "source": [
        "from bs4 import BeautifulSoup\n",
        "import requests\n",
        "from requests.auth import HTTPBasicAuth\n",
        "import json\n",
        "\n",
        "basic = HTTPBasicAuth('imunizacao_public', 'qlto5t&7r_@+#Tlstigi')\n",
        "payload = { 'size' : '10000'\n",
        "           }\n",
        "\n",
        "dados_completos = []\n",
        "continuar = True\n",
        "scroll_id = ''\n",
        "\n",
        "while(continuar):\n",
        "  if(scroll_id == ''):\n",
        "    response = requests.get(\"https://imunizacao-es.saude.gov.br/_search?scroll=1m\"\n",
        "                        ,auth=basic\n",
        "                       ,params = payload)\n",
        "    response_txt = response.json()\n",
        "    scroll_id = response_txt[\"_scroll_id\"]\n",
        "    for i in response_txt[\"hits\"][\"hits\"]:\n",
        "      dados_completos.append(i[\"_source\"])\n",
        "  else:\n",
        "    payload = { 'scroll_id' : scroll_id,\n",
        "               'scroll' : '1m'\n",
        "           }\n",
        "    response = requests.get(\"https://imunizacao-es.saude.gov.br/_search?scroll\"\n",
        "                        ,auth=basic\n",
        "                       ,params = payload)\n",
        "    response_txt = response.json()\n",
        "    \n",
        "    if(response[\"hits\"][\"hits\"]):\n",
        "      scroll_id = response_txt[\"_scroll_id\"]\n",
        "      for i in response_txt[\"hits\"][\"hits\"]:\n",
        "        dados_completos.append(i[\"_source\"])\n",
        "    else:\n",
        "      continuar = False\n",
        "\n",
        "print(continuar)\n",
        "print(dados_completos)\n",
        "\n",
        "\n",
        "\n",
        "\n",
        "\n",
        "\n",
        "\n"
      ],
      "metadata": {
        "id": "cWiIJXemFosD",
        "outputId": "42d3ae6e-87ea-428e-a66b-62a9ac4ac430",
        "colab": {
          "base_uri": "https://localhost:8080/",
          "height": 365
        }
      },
      "execution_count": 29,
      "outputs": [
        {
          "output_type": "error",
          "ename": "JSONDecodeError",
          "evalue": "ignored",
          "traceback": [
            "\u001b[0;31m---------------------------------------------------------------------------\u001b[0m",
            "\u001b[0;31mJSONDecodeError\u001b[0m                           Traceback (most recent call last)",
            "\u001b[0;32m<ipython-input-29-3a6d2422af16>\u001b[0m in \u001b[0;36m<module>\u001b[0;34m\u001b[0m\n\u001b[1;32m     28\u001b[0m                         \u001b[0;34m,\u001b[0m\u001b[0mauth\u001b[0m\u001b[0;34m=\u001b[0m\u001b[0mbasic\u001b[0m\u001b[0;34m\u001b[0m\u001b[0;34m\u001b[0m\u001b[0m\n\u001b[1;32m     29\u001b[0m                        ,params = payload)\n\u001b[0;32m---> 30\u001b[0;31m     \u001b[0mresponse_txt\u001b[0m \u001b[0;34m=\u001b[0m \u001b[0mresponse\u001b[0m\u001b[0;34m.\u001b[0m\u001b[0mjson\u001b[0m\u001b[0;34m(\u001b[0m\u001b[0;34m)\u001b[0m\u001b[0;34m\u001b[0m\u001b[0;34m\u001b[0m\u001b[0m\n\u001b[0m\u001b[1;32m     31\u001b[0m     \u001b[0;32mif\u001b[0m\u001b[0;34m(\u001b[0m\u001b[0mresponse\u001b[0m\u001b[0;34m[\u001b[0m\u001b[0;34m\"hits\"\u001b[0m\u001b[0;34m]\u001b[0m\u001b[0;34m[\u001b[0m\u001b[0;34m\"hits\"\u001b[0m\u001b[0;34m]\u001b[0m\u001b[0;34m)\u001b[0m\u001b[0;34m:\u001b[0m\u001b[0;34m\u001b[0m\u001b[0;34m\u001b[0m\u001b[0m\n\u001b[1;32m     32\u001b[0m       \u001b[0mscroll_id\u001b[0m \u001b[0;34m=\u001b[0m \u001b[0mresponse_txt\u001b[0m\u001b[0;34m[\u001b[0m\u001b[0;34m\"_scroll_id\"\u001b[0m\u001b[0;34m]\u001b[0m\u001b[0;34m\u001b[0m\u001b[0;34m\u001b[0m\u001b[0m\n",
            "\u001b[0;32m/usr/local/lib/python3.8/dist-packages/requests/models.py\u001b[0m in \u001b[0;36mjson\u001b[0;34m(self, **kwargs)\u001b[0m\n\u001b[1;32m    898\u001b[0m                     \u001b[0;31m# used.\u001b[0m\u001b[0;34m\u001b[0m\u001b[0;34m\u001b[0m\u001b[0;34m\u001b[0m\u001b[0m\n\u001b[1;32m    899\u001b[0m                     \u001b[0;32mpass\u001b[0m\u001b[0;34m\u001b[0m\u001b[0;34m\u001b[0m\u001b[0m\n\u001b[0;32m--> 900\u001b[0;31m         \u001b[0;32mreturn\u001b[0m \u001b[0mcomplexjson\u001b[0m\u001b[0;34m.\u001b[0m\u001b[0mloads\u001b[0m\u001b[0;34m(\u001b[0m\u001b[0mself\u001b[0m\u001b[0;34m.\u001b[0m\u001b[0mtext\u001b[0m\u001b[0;34m,\u001b[0m \u001b[0;34m**\u001b[0m\u001b[0mkwargs\u001b[0m\u001b[0;34m)\u001b[0m\u001b[0;34m\u001b[0m\u001b[0;34m\u001b[0m\u001b[0m\n\u001b[0m\u001b[1;32m    901\u001b[0m \u001b[0;34m\u001b[0m\u001b[0m\n\u001b[1;32m    902\u001b[0m     \u001b[0;34m@\u001b[0m\u001b[0mproperty\u001b[0m\u001b[0;34m\u001b[0m\u001b[0;34m\u001b[0m\u001b[0m\n",
            "\u001b[0;32m/usr/lib/python3.8/json/__init__.py\u001b[0m in \u001b[0;36mloads\u001b[0;34m(s, cls, object_hook, parse_float, parse_int, parse_constant, object_pairs_hook, **kw)\u001b[0m\n\u001b[1;32m    355\u001b[0m             \u001b[0mparse_int\u001b[0m \u001b[0;32mis\u001b[0m \u001b[0;32mNone\u001b[0m \u001b[0;32mand\u001b[0m \u001b[0mparse_float\u001b[0m \u001b[0;32mis\u001b[0m \u001b[0;32mNone\u001b[0m \u001b[0;32mand\u001b[0m\u001b[0;34m\u001b[0m\u001b[0;34m\u001b[0m\u001b[0m\n\u001b[1;32m    356\u001b[0m             parse_constant is None and object_pairs_hook is None and not kw):\n\u001b[0;32m--> 357\u001b[0;31m         \u001b[0;32mreturn\u001b[0m \u001b[0m_default_decoder\u001b[0m\u001b[0;34m.\u001b[0m\u001b[0mdecode\u001b[0m\u001b[0;34m(\u001b[0m\u001b[0ms\u001b[0m\u001b[0;34m)\u001b[0m\u001b[0;34m\u001b[0m\u001b[0;34m\u001b[0m\u001b[0m\n\u001b[0m\u001b[1;32m    358\u001b[0m     \u001b[0;32mif\u001b[0m \u001b[0mcls\u001b[0m \u001b[0;32mis\u001b[0m \u001b[0;32mNone\u001b[0m\u001b[0;34m:\u001b[0m\u001b[0;34m\u001b[0m\u001b[0;34m\u001b[0m\u001b[0m\n\u001b[1;32m    359\u001b[0m         \u001b[0mcls\u001b[0m \u001b[0;34m=\u001b[0m \u001b[0mJSONDecoder\u001b[0m\u001b[0;34m\u001b[0m\u001b[0;34m\u001b[0m\u001b[0m\n",
            "\u001b[0;32m/usr/lib/python3.8/json/decoder.py\u001b[0m in \u001b[0;36mdecode\u001b[0;34m(self, s, _w)\u001b[0m\n\u001b[1;32m    335\u001b[0m \u001b[0;34m\u001b[0m\u001b[0m\n\u001b[1;32m    336\u001b[0m         \"\"\"\n\u001b[0;32m--> 337\u001b[0;31m         \u001b[0mobj\u001b[0m\u001b[0;34m,\u001b[0m \u001b[0mend\u001b[0m \u001b[0;34m=\u001b[0m \u001b[0mself\u001b[0m\u001b[0;34m.\u001b[0m\u001b[0mraw_decode\u001b[0m\u001b[0;34m(\u001b[0m\u001b[0ms\u001b[0m\u001b[0;34m,\u001b[0m \u001b[0midx\u001b[0m\u001b[0;34m=\u001b[0m\u001b[0m_w\u001b[0m\u001b[0;34m(\u001b[0m\u001b[0ms\u001b[0m\u001b[0;34m,\u001b[0m \u001b[0;36m0\u001b[0m\u001b[0;34m)\u001b[0m\u001b[0;34m.\u001b[0m\u001b[0mend\u001b[0m\u001b[0;34m(\u001b[0m\u001b[0;34m)\u001b[0m\u001b[0;34m)\u001b[0m\u001b[0;34m\u001b[0m\u001b[0;34m\u001b[0m\u001b[0m\n\u001b[0m\u001b[1;32m    338\u001b[0m         \u001b[0mend\u001b[0m \u001b[0;34m=\u001b[0m \u001b[0m_w\u001b[0m\u001b[0;34m(\u001b[0m\u001b[0ms\u001b[0m\u001b[0;34m,\u001b[0m \u001b[0mend\u001b[0m\u001b[0;34m)\u001b[0m\u001b[0;34m.\u001b[0m\u001b[0mend\u001b[0m\u001b[0;34m(\u001b[0m\u001b[0;34m)\u001b[0m\u001b[0;34m\u001b[0m\u001b[0;34m\u001b[0m\u001b[0m\n\u001b[1;32m    339\u001b[0m         \u001b[0;32mif\u001b[0m \u001b[0mend\u001b[0m \u001b[0;34m!=\u001b[0m \u001b[0mlen\u001b[0m\u001b[0;34m(\u001b[0m\u001b[0ms\u001b[0m\u001b[0;34m)\u001b[0m\u001b[0;34m:\u001b[0m\u001b[0;34m\u001b[0m\u001b[0;34m\u001b[0m\u001b[0m\n",
            "\u001b[0;32m/usr/lib/python3.8/json/decoder.py\u001b[0m in \u001b[0;36mraw_decode\u001b[0;34m(self, s, idx)\u001b[0m\n\u001b[1;32m    353\u001b[0m             \u001b[0mobj\u001b[0m\u001b[0;34m,\u001b[0m \u001b[0mend\u001b[0m \u001b[0;34m=\u001b[0m \u001b[0mself\u001b[0m\u001b[0;34m.\u001b[0m\u001b[0mscan_once\u001b[0m\u001b[0;34m(\u001b[0m\u001b[0ms\u001b[0m\u001b[0;34m,\u001b[0m \u001b[0midx\u001b[0m\u001b[0;34m)\u001b[0m\u001b[0;34m\u001b[0m\u001b[0;34m\u001b[0m\u001b[0m\n\u001b[1;32m    354\u001b[0m         \u001b[0;32mexcept\u001b[0m \u001b[0mStopIteration\u001b[0m \u001b[0;32mas\u001b[0m \u001b[0merr\u001b[0m\u001b[0;34m:\u001b[0m\u001b[0;34m\u001b[0m\u001b[0;34m\u001b[0m\u001b[0m\n\u001b[0;32m--> 355\u001b[0;31m             \u001b[0;32mraise\u001b[0m \u001b[0mJSONDecodeError\u001b[0m\u001b[0;34m(\u001b[0m\u001b[0;34m\"Expecting value\"\u001b[0m\u001b[0;34m,\u001b[0m \u001b[0ms\u001b[0m\u001b[0;34m,\u001b[0m \u001b[0merr\u001b[0m\u001b[0;34m.\u001b[0m\u001b[0mvalue\u001b[0m\u001b[0;34m)\u001b[0m \u001b[0;32mfrom\u001b[0m \u001b[0;32mNone\u001b[0m\u001b[0;34m\u001b[0m\u001b[0;34m\u001b[0m\u001b[0m\n\u001b[0m\u001b[1;32m    356\u001b[0m         \u001b[0;32mreturn\u001b[0m \u001b[0mobj\u001b[0m\u001b[0;34m,\u001b[0m \u001b[0mend\u001b[0m\u001b[0;34m\u001b[0m\u001b[0;34m\u001b[0m\u001b[0m\n",
            "\u001b[0;31mJSONDecodeError\u001b[0m: Expecting value: line 1 column 1 (char 0)"
          ]
        }
      ]
    },
    {
      "cell_type": "code",
      "source": [
        "txt = {\"hits\": {\"Obj\": \"campo\", \"hits\": [\"a\", \"b\", \"c\"], \"hitsu\" : []}}\n",
        "\n",
        "if(txt):\n",
        "  print('Sim, txt')\n",
        "\n",
        "if(txt['hits']):\n",
        "  print('Sim: ')\n",
        "\n",
        "if(txt['hits']['hitsu']):\n",
        "  print('Sim, txt hitsu')\n",
        "else:\n",
        "  print('Não, txt hitsu ta vazio')\n",
        "\n",
        "scroll_id =  'redste'\n",
        "\n",
        "payload = { 'scroll_id' : scroll_id\n",
        "           }\n",
        "print(payload)\n"
      ],
      "metadata": {
        "id": "nvXxspLmI3WF",
        "outputId": "66e6dfb1-93ba-48e6-de60-4539f497ea7a",
        "colab": {
          "base_uri": "https://localhost:8080/"
        }
      },
      "execution_count": 28,
      "outputs": [
        {
          "output_type": "stream",
          "name": "stdout",
          "text": [
            "Sim, txt\n",
            "Sim: \n",
            "Não, txt hitsu ta vazio\n",
            "{'scroll_id': 'redste'}\n"
          ]
        }
      ]
    },
    {
      "cell_type": "code",
      "execution_count": 27,
      "metadata": {
        "id": "YRgB0K-5V2fK",
        "outputId": "88863082-5b14-4478-823e-3ebdb3d56c7d",
        "colab": {
          "base_uri": "https://localhost:8080/"
        }
      },
      "outputs": [
        {
          "output_type": "stream",
          "name": "stdout",
          "text": [
            "[{'vacina_grupoAtendimento_nome': 'Pessoas de 5 a 11 anos', 'vacina_codigo': '87', 'paciente_dataNascimento': '2013-01-27', 'ds_condicao_maternal': None, 'paciente_endereco_nmPais': 'BRASIL', 'paciente_racaCor_valor': 'AMARELA', 'sistema_origem': 'Novo PNI', 'paciente_id': '868f9e4241449535085ab4dee12252919bf3dfa6d23144f1a2f330f29123bb4c', 'paciente_endereco_uf': 'PE', 'paciente_idade': 9, 'paciente_endereco_cep': '56520', 'estabelecimento_valor': '9938478', 'estabelecimento_municipio_codigo': '260280', 'data_importacao_datalake': '2023-03-05T07:43:24.000Z', 'paciente_enumSexoBiologico': 'F', 'estabelecimento_municipio_nome': 'BUIQUE', 'vacina_grupoAtendimento_codigo': '000207', 'vacina_descricao_dose': '1ª Dose', 'paciente_endereco_nmMunicipio': 'BUIQUE', 'vacina_categoria_nome': None, 'vacina_fabricante_nome': 'PFIZER', 'vacina_categoria_codigo': None, 'dt_deleted': '2023-03-05T00:00:00.000Z', 'paciente_nacionalidade_enumNacionalidade': 'B', 'vacina_numDose': '1', 'status': 'entered-in-error', 'document_id': 'cb5cfccd-9e50-4f1d-99fd-b251fb6db4a5-i0b0', 'vacina_lote': 'FM2951', 'id_sistema_origem': '16341', '@timestamp': '2023-03-05T09:16:17.444Z', 'estalecimento_noFantasia': 'PSF VILA DO POSTO II', '@version': '1', 'paciente_racaCor_codigo': '04', 'estabelecimento_razaoSocial': 'MUNICIPIO DE BUIQUE', 'vacina_nome': 'COVID-19 PFIZER - COMIRNATY', 'estabelecimento_uf': 'PE', 'data_importacao_rnds': '2022-02-04T14:10:34.000Z', 'vacina_dataAplicacao': '2022-02-04T00:00:00.000Z', 'co_condicao_maternal': None, 'paciente_endereco_coPais': '10', 'vacina_fabricante_referencia': 'Organization/28290', 'paciente_endereco_coIbgeMunicipio': '260280'}, {'vacina_grupoAtendimento_nome': 'Pessoas de 70 a 74 anos', 'vacina_codigo': '87', 'paciente_dataNascimento': '1948-10-17', 'ds_condicao_maternal': None, 'paciente_endereco_nmPais': 'BRASIL', 'paciente_racaCor_valor': 'AMARELA', 'sistema_origem': 'RN + Vacina', 'paciente_id': '17eba4257f12e5ad5ca5d7605676fb12d694f3a2b21d3d7a0983716b4060a907', 'paciente_endereco_uf': 'RN', 'paciente_idade': 72, 'paciente_endereco_cep': '', 'estabelecimento_valor': '6347223', 'estabelecimento_municipio_codigo': '240810', 'data_importacao_datalake': '2023-03-05T07:43:24.000Z', 'paciente_enumSexoBiologico': 'F', 'estabelecimento_municipio_nome': 'NATAL', 'vacina_grupoAtendimento_codigo': '000203', 'vacina_descricao_dose': 'Reforço', 'paciente_endereco_nmMunicipio': 'NATAL', 'vacina_categoria_nome': 'Faixa Etária', 'vacina_fabricante_nome': 'PFIZER', 'vacina_categoria_codigo': '2', 'dt_deleted': '2023-03-05T00:00:00.000Z', 'paciente_nacionalidade_enumNacionalidade': 'B', 'vacina_numDose': '38', 'status': 'entered-in-error', 'document_id': '721e80ee-d09d-41bf-ac1b-cda3e8e71c96-i0b0', 'vacina_lote': 'FG3528', 'id_sistema_origem': '17862', '@timestamp': '2023-03-05T09:16:17.481Z', 'estalecimento_noFantasia': 'SECRETARIA MUNICIPAL DE SAUDE NIVEL CENTRAL', '@version': '1', 'paciente_racaCor_codigo': '04', 'estabelecimento_razaoSocial': 'SECRETARIA MUNICIPAL DE SAUDE DE NATAL', 'vacina_nome': 'COVID-19 PFIZER - COMIRNATY', 'estabelecimento_uf': 'RN', 'data_importacao_rnds': '2021-10-07T23:51:13.000Z', 'vacina_dataAplicacao': '2021-10-07T00:00:00.000Z', 'co_condicao_maternal': None, 'paciente_endereco_coPais': '10', 'vacina_fabricante_referencia': None, 'paciente_endereco_coIbgeMunicipio': '240810'}, {'vacina_grupoAtendimento_nome': 'Pessoas de 18 a 64 anos', 'vacina_codigo': '85', 'paciente_dataNascimento': '1980-06-08', 'ds_condicao_maternal': None, 'paciente_endereco_nmPais': 'BRASIL', 'paciente_racaCor_valor': 'BRANCA', 'sistema_origem': 'Novo PNI', 'paciente_id': '65eb46322818fb5bceb0272450056a7ee48c524d78658c08bc2d162f4b812721', 'paciente_endereco_uf': 'RJ', 'paciente_idade': 41, 'paciente_endereco_cep': '25680', 'estabelecimento_valor': '7937083', 'estabelecimento_municipio_codigo': '330390', 'data_importacao_datalake': '2023-03-05T07:43:24.000Z', 'paciente_enumSexoBiologico': 'F', 'estabelecimento_municipio_nome': 'PETROPOLIS', 'vacina_grupoAtendimento_codigo': '000201', 'vacina_descricao_dose': 'Reforço', 'paciente_endereco_nmMunicipio': 'PETROPOLIS', 'vacina_categoria_nome': 'Faixa Etária', 'vacina_fabricante_nome': 'ASTRAZENECA/FIOCRUZ', 'vacina_categoria_codigo': '2', 'dt_deleted': '2023-03-05T00:00:00.000Z', 'paciente_nacionalidade_enumNacionalidade': 'B', 'vacina_numDose': '38', 'status': 'entered-in-error', 'document_id': '4e327f79-f303-4f0b-b5fc-83debaffbaf0-i0b0', 'vacina_lote': '21OVCD301W', 'id_sistema_origem': '16341', '@timestamp': '2023-03-05T09:16:17.482Z', 'estalecimento_noFantasia': 'COORDENACAODE EPIDEMIOLOGIA DE PETROPOLIS', '@version': '1', 'paciente_racaCor_codigo': '01', 'estabelecimento_razaoSocial': 'MUNICIPIO DE PETROPOLIS', 'vacina_nome': 'COVID-19 ASTRAZENECA/FIOCRUZ - COVISHIELD', 'estabelecimento_uf': 'RJ', 'data_importacao_rnds': '2022-04-27T21:55:09.000Z', 'vacina_dataAplicacao': '2022-03-05T00:00:00.000Z', 'co_condicao_maternal': None, 'paciente_endereco_coPais': '10', 'vacina_fabricante_referencia': 'Organization/149', 'paciente_endereco_coIbgeMunicipio': '330390'}, {'vacina_grupoAtendimento_nome': 'Pessoas de 18 a 64 anos', 'vacina_codigo': '85', 'paciente_dataNascimento': '1980-05-18', 'ds_condicao_maternal': None, 'paciente_endereco_nmPais': 'BRASIL', 'paciente_racaCor_valor': 'BRANCA', 'sistema_origem': 'Novo PNI', 'paciente_id': '8386b41a582b4caa82e9a1a6e94a9547a1228b03718faa8114529648b9448754', 'paciente_endereco_uf': 'RJ', 'paciente_idade': 41, 'paciente_endereco_cep': '25620', 'estabelecimento_valor': '7937083', 'estabelecimento_municipio_codigo': '330390', 'data_importacao_datalake': '2023-03-05T07:43:24.000Z', 'paciente_enumSexoBiologico': 'F', 'estabelecimento_municipio_nome': 'PETROPOLIS', 'vacina_grupoAtendimento_codigo': '000201', 'vacina_descricao_dose': 'Reforço', 'paciente_endereco_nmMunicipio': 'PETROPOLIS', 'vacina_categoria_nome': 'Faixa Etária', 'vacina_fabricante_nome': 'ASTRAZENECA/FIOCRUZ', 'vacina_categoria_codigo': '2', 'dt_deleted': '2023-03-05T00:00:00.000Z', 'paciente_nacionalidade_enumNacionalidade': 'B', 'vacina_numDose': '38', 'status': 'entered-in-error', 'document_id': '8251fb74-c51a-4f4b-aae2-8870d5622ad5-i0b0', 'vacina_lote': '21OVCD301W', 'id_sistema_origem': '16341', '@timestamp': '2023-03-05T09:16:17.642Z', 'estalecimento_noFantasia': 'COORDENACAODE EPIDEMIOLOGIA DE PETROPOLIS', '@version': '1', 'paciente_racaCor_codigo': '01', 'estabelecimento_razaoSocial': 'MUNICIPIO DE PETROPOLIS', 'vacina_nome': 'COVID-19 ASTRAZENECA/FIOCRUZ - COVISHIELD', 'estabelecimento_uf': 'RJ', 'data_importacao_rnds': '2022-04-27T21:33:05.000Z', 'vacina_dataAplicacao': '2022-03-05T00:00:00.000Z', 'co_condicao_maternal': None, 'paciente_endereco_coPais': '10', 'vacina_fabricante_referencia': 'Organization/149', 'paciente_endereco_coIbgeMunicipio': '330390'}, {'vacina_grupoAtendimento_nome': 'Pessoas de 3 a 4 anos', 'vacina_codigo': '86', 'paciente_dataNascimento': '2018-07-24', 'ds_condicao_maternal': 'Nenhuma', 'paciente_endereco_nmPais': 'BRASIL', 'paciente_racaCor_valor': 'PARDA', 'sistema_origem': 'Novo PNI', 'paciente_id': '1c109983b281cd16383444dc5d3c261868a8b39466bcce2ecf6e63311a484cd9', 'paciente_endereco_uf': 'PI', 'paciente_idade': 4, 'paciente_endereco_cep': '64980', 'estabelecimento_valor': '9131086', 'estabelecimento_municipio_codigo': '220290', 'data_importacao_datalake': '2023-03-05T07:43:24.000Z', 'paciente_enumSexoBiologico': 'F', 'estabelecimento_municipio_nome': 'CORRENTE', 'vacina_grupoAtendimento_codigo': '000208', 'vacina_descricao_dose': '1ª Dose', 'paciente_endereco_nmMunicipio': 'CORRENTE', 'vacina_categoria_nome': 'Faixa Etária', 'vacina_fabricante_nome': 'SINOVAC/BUTANTAN', 'vacina_categoria_codigo': '2', 'dt_deleted': '2023-03-05T00:00:00.000Z', 'paciente_nacionalidade_enumNacionalidade': 'B', 'vacina_numDose': '1', 'status': 'entered-in-error', 'document_id': '1451e9eb-98b6-4296-886b-42e249f724a5-i0b0', 'vacina_lote': '220259', 'id_sistema_origem': '16341', '@timestamp': '2023-03-05T09:16:17.642Z', 'estalecimento_noFantasia': 'CENTRAL MUNICIPAL DE REDE DE FRIO DE CORRENTE', '@version': '1', 'paciente_racaCor_codigo': '03', 'estabelecimento_razaoSocial': 'MUNICIPIO DE CORRENTE SECRETARIA DE SAUDE', 'vacina_nome': 'COVID-19 SINOVAC/BUTANTAN - CORONAVAC', 'estabelecimento_uf': 'PI', 'data_importacao_rnds': '2022-12-11T20:21:00.000Z', 'vacina_dataAplicacao': '2022-11-30T00:00:00.000Z', 'co_condicao_maternal': 1, 'paciente_endereco_coPais': '10', 'vacina_fabricante_referencia': '152', 'paciente_endereco_coIbgeMunicipio': '220290'}, {'vacina_grupoAtendimento_nome': 'Faixa Etária', 'vacina_codigo': '99', 'paciente_dataNascimento': '2016-01-27', 'ds_condicao_maternal': 'Nenhuma', 'paciente_endereco_nmPais': 'BRASIL', 'paciente_racaCor_valor': 'PARDA', 'sistema_origem': 'Novo PNI', 'paciente_id': '56ac5dc78da014a3e61ff8dfdae0a86e6a18ce443ac0b49b79da13c3c83fe8c4', 'paciente_endereco_uf': 'PB', 'paciente_idade': 7, 'paciente_endereco_cep': '58735', 'estabelecimento_valor': '2321505', 'estabelecimento_municipio_codigo': '251670', 'data_importacao_datalake': '2023-03-05T07:43:24.000Z', 'paciente_enumSexoBiologico': 'M', 'estabelecimento_municipio_nome': 'TEIXEIRA', 'vacina_grupoAtendimento_codigo': '000210', 'vacina_descricao_dose': '3ª Dose', 'paciente_endereco_nmMunicipio': 'TEIXEIRA', 'vacina_categoria_nome': 'Faixa Etária', 'vacina_fabricante_nome': 'PFIZER - PEDIÁTRICA', 'vacina_categoria_codigo': '2', 'dt_deleted': '2023-03-05T00:00:00.000Z', 'paciente_nacionalidade_enumNacionalidade': 'B', 'vacina_numDose': '3', 'status': 'entered-in-error', 'document_id': 'ed61fd40-3cb0-419b-9eb5-710f71c47095-i0b0', 'vacina_lote': 'FX9154', 'id_sistema_origem': '16341', '@timestamp': '2023-03-05T09:16:17.643Z', 'estalecimento_noFantasia': 'ESF IV ESDRAS GUEDES', '@version': '1', 'paciente_racaCor_codigo': '03', 'estabelecimento_razaoSocial': 'FUNDO MUNICIPAL DE SAUDE DE TEIXEIRA', 'vacina_nome': 'COVID-19 PFIZER - COMIRNATY PEDIÁTRICA', 'estabelecimento_uf': 'PB', 'data_importacao_rnds': '2023-03-04T23:45:45.000Z', 'vacina_dataAplicacao': '2023-03-04T00:00:00.000Z', 'co_condicao_maternal': 1, 'paciente_endereco_coPais': '10', 'vacina_fabricante_referencia': '28290', 'paciente_endereco_coIbgeMunicipio': '251670'}, {'vacina_grupoAtendimento_nome': 'Pneumopatias Crônicas Graves', 'vacina_codigo': '85', 'paciente_dataNascimento': '1981-04-29', 'ds_condicao_maternal': None, 'paciente_endereco_nmPais': 'BRASIL', 'paciente_racaCor_valor': 'PARDA', 'sistema_origem': 'Novo PNI', 'paciente_id': '5efaceb7ffccf1c8732000f9d9e5a5f8b417bd2b9057b79ec41be4babee1b0d7', 'paciente_endereco_uf': 'RJ', 'paciente_idade': 40, 'paciente_endereco_cep': '25655', 'estabelecimento_valor': '7937083', 'estabelecimento_municipio_codigo': '330390', 'data_importacao_datalake': '2023-03-05T07:43:24.000Z', 'paciente_enumSexoBiologico': 'M', 'estabelecimento_municipio_nome': 'PETROPOLIS', 'vacina_grupoAtendimento_codigo': '000104', 'vacina_descricao_dose': 'Reforço', 'paciente_endereco_nmMunicipio': 'PETROPOLIS', 'vacina_categoria_nome': 'Comorbidades', 'vacina_fabricante_nome': 'ASTRAZENECA/FIOCRUZ', 'vacina_categoria_codigo': '1', 'dt_deleted': '2023-03-05T00:00:00.000Z', 'paciente_nacionalidade_enumNacionalidade': 'B', 'vacina_numDose': '38', 'status': 'entered-in-error', 'document_id': '3c04d8b8-5754-4d06-84d8-ad3cba47407a-i0b0', 'vacina_lote': '21OVCD301W', 'id_sistema_origem': '16341', '@timestamp': '2023-03-05T09:16:17.643Z', 'estalecimento_noFantasia': 'COORDENACAODE EPIDEMIOLOGIA DE PETROPOLIS', '@version': '1', 'paciente_racaCor_codigo': '03', 'estabelecimento_razaoSocial': 'MUNICIPIO DE PETROPOLIS', 'vacina_nome': 'COVID-19 ASTRAZENECA/FIOCRUZ - COVISHIELD', 'estabelecimento_uf': 'RJ', 'data_importacao_rnds': '2022-03-02T15:30:10.000Z', 'vacina_dataAplicacao': '2022-03-02T00:00:00.000Z', 'co_condicao_maternal': None, 'paciente_endereco_coPais': '10', 'vacina_fabricante_referencia': 'Organization/149', 'paciente_endereco_coIbgeMunicipio': '330390'}]\n"
          ]
        }
      ],
      "source": [
        "\n",
        "\n",
        "from bs4 import BeautifulSoup\n",
        "import requests\n",
        "from requests.auth import HTTPBasicAuth\n",
        "import json\n",
        "\n",
        "basic = HTTPBasicAuth('imunizacao_public', 'qlto5t&7r_@+#Tlstigi')\n",
        "payload = { 'scroll': '1m','size' : '7'\n",
        "           }\n",
        "\n",
        "dados_completos = []\n",
        "hits = ''\n",
        "\n",
        "\n",
        "response = requests.get(\"https://imunizacao-es.saude.gov.br/_search\"\n",
        "                        ,auth=basic\n",
        "                       ,params = payload)\n",
        "\n",
        "response_txt = response.json()\n",
        "\n",
        "scroll_id = response_txt[\"_scroll_id\"]\n",
        "\n",
        "dados = []\n",
        "\n",
        "for i in response_txt[\"hits\"][\"hits\"]:\n",
        "  dados.append(i[\"_source\"])\n",
        "\n",
        "print(dados)\n",
        "\n"
      ]
    }
  ]
}